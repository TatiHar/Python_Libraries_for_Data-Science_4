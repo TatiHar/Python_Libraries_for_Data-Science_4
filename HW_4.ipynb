{
 "cells": [
  {
   "cell_type": "markdown",
   "metadata": {},
   "source": [
    "1: Регуляризация используется для снижения переобучения модели, она позволяет контролировать рост модели, опираясь на анализ ее сложности. Штрафует признак за сличшком большой вес в модели. "
   ]
  },
  {
   "cell_type": "markdown",
   "metadata": {},
   "source": [
    "2: Показывает на сколько меняется прогниз при изменении значений признака. Чем больше значение важности, тем больше будет изменение значения прогноза."
   ]
  }
 ],
 "metadata": {
  "kernelspec": {
   "display_name": "Python 3",
   "language": "python",
   "name": "python3"
  },
  "language_info": {
   "codemirror_mode": {
    "name": "ipython",
    "version": 3
   },
   "file_extension": ".py",
   "mimetype": "text/x-python",
   "name": "python",
   "nbconvert_exporter": "python",
   "pygments_lexer": "ipython3",
   "version": "3.8.3"
  }
 },
 "nbformat": 4,
 "nbformat_minor": 4
}
